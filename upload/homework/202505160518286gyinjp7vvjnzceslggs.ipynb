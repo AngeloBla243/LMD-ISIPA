{
 "cells": [
  {
   "cell_type": "code",
   "execution_count": 2,
   "id": "731642c0-ec79-454b-b691-7c5cbd882403",
   "metadata": {},
   "outputs": [],
   "source": [
    "!pip install ta tensorflow --quiet\n"
   ]
  },
  {
   "cell_type": "code",
   "execution_count": 4,
   "id": "a9da76c8-dbc5-4b5e-8476-fd42e3b42664",
   "metadata": {},
   "outputs": [
    {
     "name": "stderr",
     "output_type": "stream",
     "text": [
      "C:\\Users\\catza\\AppData\\Local\\Temp\\ipykernel_11416\\2384793379.py:1: DeprecationWarning: pkg_resources is deprecated as an API. See https://setuptools.pypa.io/en/latest/pkg_resources.html\n",
      "  import pkg_resources\n"
     ]
    },
    {
     "name": "stdout",
     "output_type": "stream",
     "text": [
      "ta version : 0.11.0\n"
     ]
    }
   ],
   "source": [
    "import pkg_resources\n",
    "print(\"ta version :\", pkg_resources.get_distribution('ta').version)\n"
   ]
  },
  {
   "cell_type": "code",
   "execution_count": 5,
   "id": "cc61cb2c-1e0c-4bfe-98ad-4f6cdb0795c7",
   "metadata": {},
   "outputs": [
    {
     "name": "stdout",
     "output_type": "stream",
     "text": [
      "ta version : 0.11.0\n",
      "TensorFlow version : 2.19.0\n"
     ]
    }
   ],
   "source": [
    "import pkg_resources\n",
    "import tensorflow as tf\n",
    "\n",
    "print(\"ta version :\", pkg_resources.get_distribution('ta').version)\n",
    "print(\"TensorFlow version :\", tf.__version__)\n"
   ]
  },
  {
   "cell_type": "code",
   "execution_count": 6,
   "id": "fe22fb6f-de38-4b86-bde9-f9bc2dcb9ff2",
   "metadata": {},
   "outputs": [
    {
     "name": "stdout",
     "output_type": "stream",
     "text": [
      "C:\\Windows\\System32\\intelligent-trading-bot\n"
     ]
    },
    {
     "name": "stderr",
     "output_type": "stream",
     "text": [
      "Cloning into 'intelligent-trading-bot'...\n"
     ]
    }
   ],
   "source": [
    "!git clone https://github.com/asavinov/intelligent-trading-bot.git\n",
    "%cd intelligent-trading-bot"
   ]
  },
  {
   "cell_type": "code",
   "execution_count": null,
   "id": "d2232f33-3f78-4ebd-9718-dcfb3ccda834",
   "metadata": {},
   "outputs": [],
   "source": []
  }
 ],
 "metadata": {
  "kernelspec": {
   "display_name": "Python 3 (ipykernel)",
   "language": "python",
   "name": "python3"
  },
  "language_info": {
   "codemirror_mode": {
    "name": "ipython",
    "version": 3
   },
   "file_extension": ".py",
   "mimetype": "text/x-python",
   "name": "python",
   "nbconvert_exporter": "python",
   "pygments_lexer": "ipython3",
   "version": "3.12.0"
  }
 },
 "nbformat": 4,
 "nbformat_minor": 5
}
